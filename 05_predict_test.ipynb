{
  "nbformat": 4,
  "nbformat_minor": 0,
  "metadata": {
    "colab": {
      "provenance": [],
      "machine_shape": "hm",
      "authorship_tag": "ABX9TyOm7a3vWEIb8NL6gPhKQ5K2",
      "include_colab_link": true
    },
    "kernelspec": {
      "name": "python3",
      "display_name": "Python 3"
    },
    "language_info": {
      "name": "python"
    },
    "accelerator": "GPU",
    "gpuClass": "premium"
  },
  "cells": [
    {
      "cell_type": "markdown",
      "metadata": {
        "id": "view-in-github",
        "colab_type": "text"
      },
      "source": [
        "<a href=\"https://colab.research.google.com/github/carlos-alves-one/-ML-Zoomcamp-Week-5/blob/main/05_predict_test.ipynb\" target=\"_parent\"><img src=\"https://colab.research.google.com/assets/colab-badge.svg\" alt=\"Open In Colab\"/></a>"
      ]
    },
    {
      "cell_type": "markdown",
      "source": [
        "## Goldsmiths University of London\n",
        "**Author....: Carlos Manuel de Oliveira Alves**<br>\n",
        "**Student..: cdeol003**<br>\n",
        "**Created..: 06/10/2022**"
      ],
      "metadata": {
        "id": "vqonk0WgZAwK"
      }
    },
    {
      "cell_type": "code",
      "execution_count": 1,
      "metadata": {
        "colab": {
          "base_uri": "https://localhost:8080/",
          "height": 36
        },
        "id": "dugwam0XY4Xl",
        "outputId": "37b82d2d-5cdc-4063-8f7a-6bcbc81498bd"
      },
      "outputs": [
        {
          "output_type": "display_data",
          "data": {
            "application/javascript": [
              "IPython.notebook.set_autosave_interval(0)"
            ]
          },
          "metadata": {}
        },
        {
          "output_type": "stream",
          "name": "stdout",
          "text": [
            "Autosave disabled\n"
          ]
        }
      ],
      "source": [
        "# Turn off autosave\n",
        "%autosave 0"
      ]
    },
    {
      "cell_type": "code",
      "source": [
        "# Import library request to communicate with the browser\n",
        "import requests\n",
        "\n",
        "# Set our URL to be used with requests\n",
        "url = 'http://http://localhost:9696/predict'"
      ],
      "metadata": {
        "id": "P4RwCeo9ZgRZ"
      },
      "execution_count": 1,
      "outputs": []
    },
    {
      "cell_type": "code",
      "source": [
        "# Create customer JSON to be used with our model\n",
        "customer = {\n",
        "    \" gender\": \"female\",\n",
        "    \"seniorcitizen\": 0,\n",
        "    \"partner\": \"yes\",\n",
        "    \"dependents\": \"no\",\n",
        "    \"phoneservice\": \"no\",\n",
        "    \"multiplelines\": \"no_phone_service\",\n",
        "    \"internetservice\": \"dsl\",\n",
        "    \"onlinesecurity\": \"no\",\n",
        "    \"onlinebackup\": \"yes\",\n",
        "    \"deviceprotection\": \"no\",\n",
        "    \"techsuport\": \"no\",\n",
        "    \"streamingtv\": \"no\",\n",
        "    \"contract\": \"month-to-month\",\n",
        "    \"paperlessbilling\": \"yes\",\n",
        "    \"paymentmethod\": \"electronic_check\",\n",
        "    \"tenure\": 1,\n",
        "    \"monthlycharges\": 29.85,\n",
        "    \"totalcharges\": 29.85\n",
        "}"
      ],
      "metadata": {
        "id": "JDsKBvNgbypd"
      },
      "execution_count": null,
      "outputs": []
    }
  ]
}